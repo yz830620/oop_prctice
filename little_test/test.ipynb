{
 "cells": [
  {
   "cell_type": "code",
   "execution_count": null,
   "source": [
    "json = {\"event_id\": \"event543\", \"source_id\": \"test-112\", \"source_data\": [{\"document_name\": \"ex_01\", \"document_data\": [{\"page_number\": 0, \"image_path\": \"data/converted_image/ex_01/ex_01_p0.jpg\"}, {\"page_number\": 1, \"image_path\": \"data/converted_image/ex_01/ex_01_p1.jpg\"}, {\"page_number\": 2, \"image_path\": \"data/converted_image/ex_01/ex_01_p2.jpg\"}, {\"page_number\": 3, \"image_path\": \"data/converted_image/ex_01/ex_01_p3.jpg\"}]}, {\"document_name\": \"ex_02\", \"document_data\": [{\"page_number\": 0, \"image_path\": \"data/converted_image/ex_02/ex_02_p0.jpg\"}, {\"page_number\": 1, \"image_path\": \"data/converted_image/ex_02/ex_02_p1.jpg\"}, {\"page_number\": 2, \"image_path\": \"data/converted_image/ex_02/ex_02_p2.jpg\"}, {\"page_number\": 3, \"image_path\": \"data/converted_image/ex_02/ex_02_p3.jpg\"}, {\"page_number\": 4, \"image_path\": \"data/converted_image/ex_02/ex_02_p4.jpg\"}, {\"page_number\": 5, \"image_path\": \"data/converted_image/ex_02/ex_02_p5.jpg\"}]}, {\"document_name\": \"ex_03\", \"document_data\": [{\"page_number\": 0, \"image_path\": \"data/converted_image/ex_03/ex_03_p0.jpg\"}, {\"page_number\": 1, \"image_path\": \"data/converted_image/ex_03/ex_03_p1.jpg\"}, {\"page_number\": 2, \"image_path\": \"data/converted_image/ex_03/ex_03_p2.jpg\"}]}]}\r\n",
    "print(json)"
   ],
   "outputs": [],
   "metadata": {}
  },
  {
   "cell_type": "code",
   "execution_count": null,
   "source": [],
   "outputs": [],
   "metadata": {}
  }
 ],
 "metadata": {
  "orig_nbformat": 4,
  "language_info": {
   "name": "python",
   "version": "3.7.9"
  },
  "kernelspec": {
   "name": "python3",
   "display_name": "Python 3.7.9 64-bit"
  },
  "interpreter": {
   "hash": "6056a6e2320def2997b835498223d8f96026eadf5531e868f7cde49a14ddb475"
  }
 },
 "nbformat": 4,
 "nbformat_minor": 2
}